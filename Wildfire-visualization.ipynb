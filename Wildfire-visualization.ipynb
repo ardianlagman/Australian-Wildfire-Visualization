{
 "cells": [
  {
   "cell_type": "code",
   "execution_count": 1,
   "metadata": {},
   "outputs": [],
   "source": [
    "import numpy as np\n",
    "import pandas as pd\n",
    "import matplotlib as mpl\n",
    "import matplotlib.pyplot as plt\n",
    "import folium"
   ]
  },
  {
   "cell_type": "code",
   "execution_count": 2,
   "metadata": {},
   "outputs": [
    {
     "output_type": "stream",
     "name": "stdout",
     "text": "Data downloaded\n"
    },
    {
     "output_type": "execute_result",
     "data": {
      "text/plain": "   latitude  longitude  bright_ti4  scan  track    acq_date  acq_time  \\\n0 -42.69706  147.70634       333.6  0.57   0.43  2019-10-01       336   \n1 -42.26889  147.31104       336.2  0.39   0.44  2019-10-01       336   \n2 -40.85202  145.38068       327.9  0.46   0.47  2019-10-01       336   \n3 -42.39329  147.47144       346.9  0.38   0.43  2019-10-01       336   \n4 -42.69701  147.70584       334.1  0.56   0.43  2019-10-01       336   \n\n  satellite instrument confidence version  bright_ti5  frp daynight  \n0         N      VIIRS          n  1.0NRT       293.4  4.0        D  \n1         N      VIIRS          n  1.0NRT       296.9  3.9        D  \n2         N      VIIRS          n  1.0NRT       295.3  3.7        D  \n3         N      VIIRS          n  1.0NRT       294.2  6.2        D  \n4         N      VIIRS          n  1.0NRT       293.5  4.1        D  ",
      "text/html": "<div>\n<style scoped>\n    .dataframe tbody tr th:only-of-type {\n        vertical-align: middle;\n    }\n\n    .dataframe tbody tr th {\n        vertical-align: top;\n    }\n\n    .dataframe thead th {\n        text-align: right;\n    }\n</style>\n<table border=\"1\" class=\"dataframe\">\n  <thead>\n    <tr style=\"text-align: right;\">\n      <th></th>\n      <th>latitude</th>\n      <th>longitude</th>\n      <th>bright_ti4</th>\n      <th>scan</th>\n      <th>track</th>\n      <th>acq_date</th>\n      <th>acq_time</th>\n      <th>satellite</th>\n      <th>instrument</th>\n      <th>confidence</th>\n      <th>version</th>\n      <th>bright_ti5</th>\n      <th>frp</th>\n      <th>daynight</th>\n    </tr>\n  </thead>\n  <tbody>\n    <tr>\n      <td>0</td>\n      <td>-42.69706</td>\n      <td>147.70634</td>\n      <td>333.6</td>\n      <td>0.57</td>\n      <td>0.43</td>\n      <td>2019-10-01</td>\n      <td>336</td>\n      <td>N</td>\n      <td>VIIRS</td>\n      <td>n</td>\n      <td>1.0NRT</td>\n      <td>293.4</td>\n      <td>4.0</td>\n      <td>D</td>\n    </tr>\n    <tr>\n      <td>1</td>\n      <td>-42.26889</td>\n      <td>147.31104</td>\n      <td>336.2</td>\n      <td>0.39</td>\n      <td>0.44</td>\n      <td>2019-10-01</td>\n      <td>336</td>\n      <td>N</td>\n      <td>VIIRS</td>\n      <td>n</td>\n      <td>1.0NRT</td>\n      <td>296.9</td>\n      <td>3.9</td>\n      <td>D</td>\n    </tr>\n    <tr>\n      <td>2</td>\n      <td>-40.85202</td>\n      <td>145.38068</td>\n      <td>327.9</td>\n      <td>0.46</td>\n      <td>0.47</td>\n      <td>2019-10-01</td>\n      <td>336</td>\n      <td>N</td>\n      <td>VIIRS</td>\n      <td>n</td>\n      <td>1.0NRT</td>\n      <td>295.3</td>\n      <td>3.7</td>\n      <td>D</td>\n    </tr>\n    <tr>\n      <td>3</td>\n      <td>-42.39329</td>\n      <td>147.47144</td>\n      <td>346.9</td>\n      <td>0.38</td>\n      <td>0.43</td>\n      <td>2019-10-01</td>\n      <td>336</td>\n      <td>N</td>\n      <td>VIIRS</td>\n      <td>n</td>\n      <td>1.0NRT</td>\n      <td>294.2</td>\n      <td>6.2</td>\n      <td>D</td>\n    </tr>\n    <tr>\n      <td>4</td>\n      <td>-42.69701</td>\n      <td>147.70584</td>\n      <td>334.1</td>\n      <td>0.56</td>\n      <td>0.43</td>\n      <td>2019-10-01</td>\n      <td>336</td>\n      <td>N</td>\n      <td>VIIRS</td>\n      <td>n</td>\n      <td>1.0NRT</td>\n      <td>293.5</td>\n      <td>4.1</td>\n      <td>D</td>\n    </tr>\n  </tbody>\n</table>\n</div>"
     },
     "metadata": {},
     "execution_count": 2
    }
   ],
   "source": [
    "path = \"D:/Data_science_projects/Australia_wildfire_visualization/fires-from-space-australia-and-new-zeland/fire_nrt_V1_96617.csv\"\n",
    "\n",
    "df_wildfires = pd.read_csv(path, index_col = False)\n",
    "\n",
    "print(\"Data downloaded\")\n",
    "\n",
    "df_wildfires.head()"
   ]
  },
  {
   "cell_type": "markdown",
   "metadata": {},
   "source": [
    "Checking data types"
   ]
  },
  {
   "cell_type": "code",
   "execution_count": 3,
   "metadata": {},
   "outputs": [
    {
     "output_type": "stream",
     "name": "stdout",
     "text": "latitude      float64\nlongitude     float64\nbright_ti4    float64\nscan          float64\ntrack         float64\nacq_date       object\nacq_time        int64\nsatellite      object\ninstrument     object\nconfidence     object\nversion        object\nbright_ti5    float64\nfrp           float64\ndaynight       object\ndtype: object\n"
    }
   ],
   "source": [
    "print(df_wildfires.dtypes)"
   ]
  },
  {
   "cell_type": "markdown",
   "metadata": {},
   "source": [
    "Note that latittude "
   ]
  },
  {
   "cell_type": "code",
   "execution_count": 4,
   "metadata": {},
   "outputs": [
    {
     "output_type": "execute_result",
     "data": {
      "text/plain": "        latitude  longitude  bright_ti4  scan  track    acq_date  acq_time  \\\n956252 -32.66628  122.15253       306.9  0.39   0.44  2020-01-11      1630   \n956253 -32.58616  123.39582       299.0  0.51   0.41  2020-01-11      1630   \n956254 -33.37853  115.94735       309.7  0.40   0.60  2020-01-11      1630   \n956255 -33.21827  115.75078       300.2  0.49   0.65  2020-01-11      1806   \n956256 -33.22012  115.75043       300.3  0.49   0.65  2020-01-11      1806   \n\n       satellite instrument confidence version  bright_ti5  frp daynight  \n956252         N      VIIRS          n  1.0NRT       288.6  0.8        N  \n956253         N      VIIRS          n  1.0NRT       287.4  0.7        N  \n956254         N      VIIRS          n  1.0NRT       291.7  1.0        N  \n956255         N      VIIRS          n  1.0NRT       290.2  1.1        N  \n956256         N      VIIRS          n  1.0NRT       290.0  0.6        N  ",
      "text/html": "<div>\n<style scoped>\n    .dataframe tbody tr th:only-of-type {\n        vertical-align: middle;\n    }\n\n    .dataframe tbody tr th {\n        vertical-align: top;\n    }\n\n    .dataframe thead th {\n        text-align: right;\n    }\n</style>\n<table border=\"1\" class=\"dataframe\">\n  <thead>\n    <tr style=\"text-align: right;\">\n      <th></th>\n      <th>latitude</th>\n      <th>longitude</th>\n      <th>bright_ti4</th>\n      <th>scan</th>\n      <th>track</th>\n      <th>acq_date</th>\n      <th>acq_time</th>\n      <th>satellite</th>\n      <th>instrument</th>\n      <th>confidence</th>\n      <th>version</th>\n      <th>bright_ti5</th>\n      <th>frp</th>\n      <th>daynight</th>\n    </tr>\n  </thead>\n  <tbody>\n    <tr>\n      <td>956252</td>\n      <td>-32.66628</td>\n      <td>122.15253</td>\n      <td>306.9</td>\n      <td>0.39</td>\n      <td>0.44</td>\n      <td>2020-01-11</td>\n      <td>1630</td>\n      <td>N</td>\n      <td>VIIRS</td>\n      <td>n</td>\n      <td>1.0NRT</td>\n      <td>288.6</td>\n      <td>0.8</td>\n      <td>N</td>\n    </tr>\n    <tr>\n      <td>956253</td>\n      <td>-32.58616</td>\n      <td>123.39582</td>\n      <td>299.0</td>\n      <td>0.51</td>\n      <td>0.41</td>\n      <td>2020-01-11</td>\n      <td>1630</td>\n      <td>N</td>\n      <td>VIIRS</td>\n      <td>n</td>\n      <td>1.0NRT</td>\n      <td>287.4</td>\n      <td>0.7</td>\n      <td>N</td>\n    </tr>\n    <tr>\n      <td>956254</td>\n      <td>-33.37853</td>\n      <td>115.94735</td>\n      <td>309.7</td>\n      <td>0.40</td>\n      <td>0.60</td>\n      <td>2020-01-11</td>\n      <td>1630</td>\n      <td>N</td>\n      <td>VIIRS</td>\n      <td>n</td>\n      <td>1.0NRT</td>\n      <td>291.7</td>\n      <td>1.0</td>\n      <td>N</td>\n    </tr>\n    <tr>\n      <td>956255</td>\n      <td>-33.21827</td>\n      <td>115.75078</td>\n      <td>300.2</td>\n      <td>0.49</td>\n      <td>0.65</td>\n      <td>2020-01-11</td>\n      <td>1806</td>\n      <td>N</td>\n      <td>VIIRS</td>\n      <td>n</td>\n      <td>1.0NRT</td>\n      <td>290.2</td>\n      <td>1.1</td>\n      <td>N</td>\n    </tr>\n    <tr>\n      <td>956256</td>\n      <td>-33.22012</td>\n      <td>115.75043</td>\n      <td>300.3</td>\n      <td>0.49</td>\n      <td>0.65</td>\n      <td>2020-01-11</td>\n      <td>1806</td>\n      <td>N</td>\n      <td>VIIRS</td>\n      <td>n</td>\n      <td>1.0NRT</td>\n      <td>290.0</td>\n      <td>0.6</td>\n      <td>N</td>\n    </tr>\n  </tbody>\n</table>\n</div>"
     },
     "metadata": {},
     "execution_count": 4
    }
   ],
   "source": [
    "df_wildfires.tail()"
   ]
  },
  {
   "cell_type": "markdown",
   "metadata": {},
   "source": [
    "Dropping everything but latitude, longitude, bright, acq_date, bright_ti5, and daynight"
   ]
  },
  {
   "cell_type": "markdown",
   "metadata": {},
   "source": [
    "df_wildfires.drop(['scan', 'track', 'acq_time', 'satellite', 'instrument', 'confidence', 'version', 'frp'], axis = 1, inplace = True)"
   ]
  },
  {
   "cell_type": "code",
   "execution_count": 5,
   "metadata": {},
   "outputs": [
    {
     "output_type": "stream",
     "name": "stdout",
     "text": "latitude  longitude  bright_ti4  scan  track    acq_date  acq_time  \\\n0      -42.69706  147.70634       333.6  0.57   0.43  2019-10-01       336   \n1      -42.26889  147.31104       336.2  0.39   0.44  2019-10-01       336   \n2      -40.85202  145.38068       327.9  0.46   0.47  2019-10-01       336   \n3      -42.39329  147.47144       346.9  0.38   0.43  2019-10-01       336   \n4      -42.69701  147.70584       334.1  0.56   0.43  2019-10-01       336   \n...          ...        ...         ...   ...    ...         ...       ...   \n956252 -32.66628  122.15253       306.9  0.39   0.44  2020-01-11      1630   \n956253 -32.58616  123.39582       299.0  0.51   0.41  2020-01-11      1630   \n956254 -33.37853  115.94735       309.7  0.40   0.60  2020-01-11      1630   \n956255 -33.21827  115.75078       300.2  0.49   0.65  2020-01-11      1806   \n956256 -33.22012  115.75043       300.3  0.49   0.65  2020-01-11      1806   \n\n       satellite instrument confidence version  bright_ti5  frp daynight  \n0              N      VIIRS          n  1.0NRT       293.4  4.0        D  \n1              N      VIIRS          n  1.0NRT       296.9  3.9        D  \n2              N      VIIRS          n  1.0NRT       295.3  3.7        D  \n3              N      VIIRS          n  1.0NRT       294.2  6.2        D  \n4              N      VIIRS          n  1.0NRT       293.5  4.1        D  \n...          ...        ...        ...     ...         ...  ...      ...  \n956252         N      VIIRS          n  1.0NRT       288.6  0.8        N  \n956253         N      VIIRS          n  1.0NRT       287.4  0.7        N  \n956254         N      VIIRS          n  1.0NRT       291.7  1.0        N  \n956255         N      VIIRS          n  1.0NRT       290.2  1.1        N  \n956256         N      VIIRS          n  1.0NRT       290.0  0.6        N  \n\n[956257 rows x 14 columns]\n"
    }
   ],
   "source": [
    "print (df_wildfires)"
   ]
  },
  {
   "cell_type": "markdown",
   "metadata": {},
   "source": [
    "Loading a map of Australia    "
   ]
  },
  {
   "cell_type": "code",
   "execution_count": 11,
   "metadata": {},
   "outputs": [
    {
     "output_type": "execute_result",
     "data": {
      "text/plain": "<folium.folium.Map at 0x2608dfe5448>",
      "text/html": "<div style=\"width:100%;\"><div style=\"position:relative;width:100%;height:0;padding-bottom:60%;\"><iframe src=\"about:blank\" style=\"position:absolute;width:100%;height:100%;left:0;top:0;border:none !important;\" data-html=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 onload=\"this.contentDocument.open();this.contentDocument.write(atob(this.getAttribute('data-html')));this.contentDocument.close();\" allowfullscreen webkitallowfullscreen mozallowfullscreen></iframe></div></div>"
     },
     "metadata": {},
     "execution_count": 11
    }
   ],
   "source": [
    "Australia_map = folium.Map(location = [-42.69706, 147.70634], zoom_start = 4)\n",
    "Australia_map"
   ]
  },
  {
   "cell_type": "markdown",
   "metadata": {},
   "source": [
    "Adding a marker for each location of the fires\n",
    "\n"
   ]
  },
  {
   "cell_type": "code",
   "execution_count": 7,
   "metadata": {},
   "outputs": [],
   "source": [
    "allFires = folium.map.FeatureGroup()\n",
    "\n",
    "for index, row in df_wildfires.iterrows():\n",
    "    allFires.add_child(\n",
    "        folium.vector_layers.CircleMarker([row['longitude'], row['latitude']], radius = 5, color = 'red', fill_color = 'red') #need to work on taking the inputs better \n",
    "    )\n"
   ]
  },
  {
   "cell_type": "code",
   "execution_count": 9,
   "metadata": {},
   "outputs": [],
   "source": [
    "Australia_map.add_child(allFires)"
   ]
  },
  {
   "cell_type": "code",
   "execution_count": 12,
   "metadata": {},
   "outputs": [
    {
     "output_type": "execute_result",
     "data": {
      "text/plain": "<folium.folium.Map at 0x2608dfe5448>",
      "text/html": "<div style=\"width:100%;\"><div style=\"position:relative;width:100%;height:0;padding-bottom:60%;\"><iframe src=\"about:blank\" style=\"position:absolute;width:100%;height:100%;left:0;top:0;border:none !important;\" data-html=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 onload=\"this.contentDocument.open();this.contentDocument.write(atob(this.getAttribute('data-html')));this.contentDocument.close();\" allowfullscreen webkitallowfullscreen mozallowfullscreen></iframe></div></div>"
     },
     "metadata": {},
     "execution_count": 12
    }
   ],
   "source": [
    "Australia_map"
   ]
  },
  {
   "cell_type": "code",
   "execution_count": null,
   "metadata": {},
   "outputs": [],
   "source": []
  }
 ],
 "metadata": {
  "language_info": {
   "name": "python",
   "codemirror_mode": {
    "name": "ipython",
    "version": 3
   },
   "version": "3.7.4-final"
  },
  "orig_nbformat": 2,
  "file_extension": ".py",
  "mimetype": "text/x-python",
  "name": "python",
  "npconvert_exporter": "python",
  "pygments_lexer": "ipython3",
  "version": 3,
  "kernelspec": {
   "name": "python3",
   "display_name": "Python 3"
  }
 },
 "nbformat": 4,
 "nbformat_minor": 2
}